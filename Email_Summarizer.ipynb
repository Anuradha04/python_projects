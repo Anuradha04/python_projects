{
  "nbformat": 4,
  "nbformat_minor": 0,
  "metadata": {
    "colab": {
      "provenance": [],
      "include_colab_link": true
    },
    "kernelspec": {
      "name": "python3",
      "display_name": "Python 3"
    },
    "language_info": {
      "name": "python"
    }
  },
  "cells": [
    {
      "cell_type": "markdown",
      "metadata": {
        "id": "view-in-github",
        "colab_type": "text"
      },
      "source": [
        "<a href=\"https://colab.research.google.com/github/Anuradha04/python_projects/blob/main/Email_Summarizer.ipynb\" target=\"_parent\"><img src=\"https://colab.research.google.com/assets/colab-badge.svg\" alt=\"Open In Colab\"/></a>"
      ]
    },
    {
      "cell_type": "markdown",
      "source": [
        "asks for parameters,\n",
        "summerize using transformers\n",
        "To read gmail: use simple gmail"
      ],
      "metadata": {
        "id": "kpigtGlN7_TJ"
      }
    },
    {
      "cell_type": "markdown",
      "source": [
        "**Steps to follow: **\n",
        "0. google developer console -  create project - api overview - api lib- gmail api - enable - oAuth console - test users add users in it.\n",
        "1. credientials - create credentials - oAuth - download json file- rename as \"client secret\"(make sure its in json).\n",
        "2. at block 5(upload) , run - choose file- \"client-secret\" - then rerun until you get verification block - go to the link, allow all - copy the authenication code and paste it in the verification block, then enter.\n",
        "3.  Summary - is a pipeline process = has many models, can find different model from huggingface, inside summary under quotations\n",
        "\n"
      ],
      "metadata": {
        "id": "nk2_KXvjCdNL"
      }
    },
    {
      "cell_type": "code",
      "execution_count": null,
      "metadata": {
        "id": "wRllMn7OzQft",
        "colab": {
          "base_uri": "https://localhost:8080/"
        },
        "outputId": "8aa4c606-4b5c-489a-8134-a53a2afafaa5"
      },
      "outputs": [
        {
          "output_type": "stream",
          "name": "stdout",
          "text": [
            "Requirement already satisfied: google-api-python-client in /usr/local/lib/python3.10/dist-packages (2.137.0)\n",
            "Collecting google-api-python-client\n",
            "  Downloading google_api_python_client-2.147.0-py2.py3-none-any.whl.metadata (6.7 kB)\n",
            "Requirement already satisfied: oauth2client in /usr/local/lib/python3.10/dist-packages (4.1.3)\n",
            "Collecting simplegmail\n",
            "  Downloading simplegmail-4.1.1-py3-none-any.whl.metadata (9.5 kB)\n",
            "Requirement already satisfied: httplib2<1.dev0,>=0.19.0 in /usr/local/lib/python3.10/dist-packages (from google-api-python-client) (0.22.0)\n",
            "Requirement already satisfied: google-auth!=2.24.0,!=2.25.0,<3.0.0.dev0,>=1.32.0 in /usr/local/lib/python3.10/dist-packages (from google-api-python-client) (2.27.0)\n",
            "Requirement already satisfied: google-auth-httplib2<1.0.0,>=0.2.0 in /usr/local/lib/python3.10/dist-packages (from google-api-python-client) (0.2.0)\n",
            "Requirement already satisfied: google-api-core!=2.0.*,!=2.1.*,!=2.2.*,!=2.3.0,<3.0.0.dev0,>=1.31.5 in /usr/local/lib/python3.10/dist-packages (from google-api-python-client) (2.19.2)\n",
            "Requirement already satisfied: uritemplate<5,>=3.0.1 in /usr/local/lib/python3.10/dist-packages (from google-api-python-client) (4.1.1)\n",
            "Requirement already satisfied: pyasn1>=0.1.7 in /usr/local/lib/python3.10/dist-packages (from oauth2client) (0.6.1)\n",
            "Requirement already satisfied: pyasn1-modules>=0.0.5 in /usr/local/lib/python3.10/dist-packages (from oauth2client) (0.4.1)\n",
            "Requirement already satisfied: rsa>=3.1.4 in /usr/local/lib/python3.10/dist-packages (from oauth2client) (4.9)\n",
            "Requirement already satisfied: six>=1.6.1 in /usr/local/lib/python3.10/dist-packages (from oauth2client) (1.16.0)\n",
            "Requirement already satisfied: beautifulsoup4>=4.0.0 in /usr/local/lib/python3.10/dist-packages (from simplegmail) (4.12.3)\n",
            "Requirement already satisfied: python-dateutil>=2.8.1 in /usr/local/lib/python3.10/dist-packages (from simplegmail) (2.8.2)\n",
            "Requirement already satisfied: lxml>=4.4.2 in /usr/local/lib/python3.10/dist-packages (from simplegmail) (4.9.4)\n",
            "Requirement already satisfied: soupsieve>1.2 in /usr/local/lib/python3.10/dist-packages (from beautifulsoup4>=4.0.0->simplegmail) (2.6)\n",
            "Requirement already satisfied: googleapis-common-protos<2.0.dev0,>=1.56.2 in /usr/local/lib/python3.10/dist-packages (from google-api-core!=2.0.*,!=2.1.*,!=2.2.*,!=2.3.0,<3.0.0.dev0,>=1.31.5->google-api-python-client) (1.65.0)\n",
            "Requirement already satisfied: protobuf!=3.20.0,!=3.20.1,!=4.21.0,!=4.21.1,!=4.21.2,!=4.21.3,!=4.21.4,!=4.21.5,<6.0.0.dev0,>=3.19.5 in /usr/local/lib/python3.10/dist-packages (from google-api-core!=2.0.*,!=2.1.*,!=2.2.*,!=2.3.0,<3.0.0.dev0,>=1.31.5->google-api-python-client) (3.20.3)\n",
            "Requirement already satisfied: proto-plus<2.0.0dev,>=1.22.3 in /usr/local/lib/python3.10/dist-packages (from google-api-core!=2.0.*,!=2.1.*,!=2.2.*,!=2.3.0,<3.0.0.dev0,>=1.31.5->google-api-python-client) (1.24.0)\n",
            "Requirement already satisfied: requests<3.0.0.dev0,>=2.18.0 in /usr/local/lib/python3.10/dist-packages (from google-api-core!=2.0.*,!=2.1.*,!=2.2.*,!=2.3.0,<3.0.0.dev0,>=1.31.5->google-api-python-client) (2.32.3)\n",
            "Requirement already satisfied: cachetools<6.0,>=2.0.0 in /usr/local/lib/python3.10/dist-packages (from google-auth!=2.24.0,!=2.25.0,<3.0.0.dev0,>=1.32.0->google-api-python-client) (5.5.0)\n",
            "Requirement already satisfied: pyparsing!=3.0.0,!=3.0.1,!=3.0.2,!=3.0.3,<4,>=2.4.2 in /usr/local/lib/python3.10/dist-packages (from httplib2<1.dev0,>=0.19.0->google-api-python-client) (3.1.4)\n",
            "Requirement already satisfied: charset-normalizer<4,>=2 in /usr/local/lib/python3.10/dist-packages (from requests<3.0.0.dev0,>=2.18.0->google-api-core!=2.0.*,!=2.1.*,!=2.2.*,!=2.3.0,<3.0.0.dev0,>=1.31.5->google-api-python-client) (3.3.2)\n",
            "Requirement already satisfied: idna<4,>=2.5 in /usr/local/lib/python3.10/dist-packages (from requests<3.0.0.dev0,>=2.18.0->google-api-core!=2.0.*,!=2.1.*,!=2.2.*,!=2.3.0,<3.0.0.dev0,>=1.31.5->google-api-python-client) (3.10)\n",
            "Requirement already satisfied: urllib3<3,>=1.21.1 in /usr/local/lib/python3.10/dist-packages (from requests<3.0.0.dev0,>=2.18.0->google-api-core!=2.0.*,!=2.1.*,!=2.2.*,!=2.3.0,<3.0.0.dev0,>=1.31.5->google-api-python-client) (2.2.3)\n",
            "Requirement already satisfied: certifi>=2017.4.17 in /usr/local/lib/python3.10/dist-packages (from requests<3.0.0.dev0,>=2.18.0->google-api-core!=2.0.*,!=2.1.*,!=2.2.*,!=2.3.0,<3.0.0.dev0,>=1.31.5->google-api-python-client) (2024.8.30)\n",
            "Downloading google_api_python_client-2.147.0-py2.py3-none-any.whl (12.2 MB)\n",
            "\u001b[2K   \u001b[90m━━━━━━━━━━━━━━━━━━━━━━━━━━━━━━━━━━━━━━━━\u001b[0m \u001b[32m12.2/12.2 MB\u001b[0m \u001b[31m26.4 MB/s\u001b[0m eta \u001b[36m0:00:00\u001b[0m\n",
            "\u001b[?25hDownloading simplegmail-4.1.1-py3-none-any.whl (19 kB)\n",
            "Installing collected packages: google-api-python-client, simplegmail\n",
            "  Attempting uninstall: google-api-python-client\n",
            "    Found existing installation: google-api-python-client 2.137.0\n",
            "    Uninstalling google-api-python-client-2.137.0:\n",
            "      Successfully uninstalled google-api-python-client-2.137.0\n",
            "Successfully installed google-api-python-client-2.147.0 simplegmail-4.1.1\n",
            "\u001b[31mERROR: pip's dependency resolver does not currently take into account all the packages that are installed. This behaviour is the source of the following dependency conflicts.\n",
            "tensorflow 2.17.0 requires protobuf!=4.21.0,!=4.21.1,!=4.21.2,!=4.21.3,!=4.21.4,!=4.21.5,<5.0.0dev,>=3.20.3, but you have protobuf 3.20.2 which is incompatible.\n",
            "tensorflow-metadata 1.15.0 requires protobuf<4.21,>=3.20.3; python_version < \"3.11\", but you have protobuf 3.20.2 which is incompatible.\u001b[0m\u001b[31m\n",
            "\u001b[0m"
          ]
        }
      ],
      "source": [
        "!pip install --upgrade google-api-python-client oauth2client simplegmail\n",
        "!pip -q install txtai[pipeline] > /dev/null"
      ]
    },
    {
      "cell_type": "code",
      "source": [
        "!pip install --force-reinstall protobuf==3.20.3"
      ],
      "metadata": {
        "colab": {
          "base_uri": "https://localhost:8080/",
          "height": 304
        },
        "id": "tRBy_LvwDVWq",
        "outputId": "1c0b652f-e674-4dec-bf3c-76d61f130d69"
      },
      "execution_count": null,
      "outputs": [
        {
          "output_type": "stream",
          "name": "stdout",
          "text": [
            "Collecting protobuf==3.20.3\n",
            "  Using cached protobuf-3.20.3-cp310-cp310-manylinux_2_12_x86_64.manylinux2010_x86_64.whl.metadata (679 bytes)\n",
            "Using cached protobuf-3.20.3-cp310-cp310-manylinux_2_12_x86_64.manylinux2010_x86_64.whl (1.1 MB)\n",
            "Installing collected packages: protobuf\n",
            "  Attempting uninstall: protobuf\n",
            "    Found existing installation: protobuf 3.20.3\n",
            "    Uninstalling protobuf-3.20.3:\n",
            "      Successfully uninstalled protobuf-3.20.3\n",
            "\u001b[31mERROR: pip's dependency resolver does not currently take into account all the packages that are installed. This behaviour is the source of the following dependency conflicts.\n",
            "onnxconverter-common 1.14.0 requires protobuf==3.20.2, but you have protobuf 3.20.3 which is incompatible.\u001b[0m\u001b[31m\n",
            "\u001b[0mSuccessfully installed protobuf-3.20.3\n"
          ]
        },
        {
          "output_type": "display_data",
          "data": {
            "application/vnd.colab-display-data+json": {
              "pip_warning": {
                "packages": [
                  "google"
                ]
              },
              "id": "d6a5a9d689ea4bb59f60144095ee18ae"
            }
          },
          "metadata": {}
        }
      ]
    },
    {
      "cell_type": "code",
      "source": [
        "from google.colab import files\n",
        "from simplegmail import Gmail\n",
        "from simplegmail.query import construct_query\n",
        "from txtai.pipeline import Summary"
      ],
      "metadata": {
        "id": "c15Ww5rCLZdo"
      },
      "execution_count": null,
      "outputs": []
    },
    {
      "cell_type": "code",
      "source": [
        "\n",
        "# Upload the client_secret.json file to Colab\n",
        "uploaded = files.upload()  # run and then Use this to upload the 'client_secret.json' file\n",
        "\n",
        "# Initialize Gmail object\n",
        "gmail = Gmail()  # It will open a link for OAuth authentication\n"
      ],
      "metadata": {
        "id": "XDRYI6LZzfWF",
        "colab": {
          "base_uri": "https://localhost:8080/",
          "height": 353
        },
        "outputId": "97c23c93-ef5e-4364-f0fd-08a0b804a019"
      },
      "execution_count": null,
      "outputs": [
        {
          "output_type": "display_data",
          "data": {
            "text/plain": [
              "<IPython.core.display.HTML object>"
            ],
            "text/html": [
              "\n",
              "     <input type=\"file\" id=\"files-3d43408f-ba2b-4b90-952a-2c13af4a053f\" name=\"files[]\" multiple disabled\n",
              "        style=\"border:none\" />\n",
              "     <output id=\"result-3d43408f-ba2b-4b90-952a-2c13af4a053f\">\n",
              "      Upload widget is only available when the cell has been executed in the\n",
              "      current browser session. Please rerun this cell to enable.\n",
              "      </output>\n",
              "      <script>// Copyright 2017 Google LLC\n",
              "//\n",
              "// Licensed under the Apache License, Version 2.0 (the \"License\");\n",
              "// you may not use this file except in compliance with the License.\n",
              "// You may obtain a copy of the License at\n",
              "//\n",
              "//      http://www.apache.org/licenses/LICENSE-2.0\n",
              "//\n",
              "// Unless required by applicable law or agreed to in writing, software\n",
              "// distributed under the License is distributed on an \"AS IS\" BASIS,\n",
              "// WITHOUT WARRANTIES OR CONDITIONS OF ANY KIND, either express or implied.\n",
              "// See the License for the specific language governing permissions and\n",
              "// limitations under the License.\n",
              "\n",
              "/**\n",
              " * @fileoverview Helpers for google.colab Python module.\n",
              " */\n",
              "(function(scope) {\n",
              "function span(text, styleAttributes = {}) {\n",
              "  const element = document.createElement('span');\n",
              "  element.textContent = text;\n",
              "  for (const key of Object.keys(styleAttributes)) {\n",
              "    element.style[key] = styleAttributes[key];\n",
              "  }\n",
              "  return element;\n",
              "}\n",
              "\n",
              "// Max number of bytes which will be uploaded at a time.\n",
              "const MAX_PAYLOAD_SIZE = 100 * 1024;\n",
              "\n",
              "function _uploadFiles(inputId, outputId) {\n",
              "  const steps = uploadFilesStep(inputId, outputId);\n",
              "  const outputElement = document.getElementById(outputId);\n",
              "  // Cache steps on the outputElement to make it available for the next call\n",
              "  // to uploadFilesContinue from Python.\n",
              "  outputElement.steps = steps;\n",
              "\n",
              "  return _uploadFilesContinue(outputId);\n",
              "}\n",
              "\n",
              "// This is roughly an async generator (not supported in the browser yet),\n",
              "// where there are multiple asynchronous steps and the Python side is going\n",
              "// to poll for completion of each step.\n",
              "// This uses a Promise to block the python side on completion of each step,\n",
              "// then passes the result of the previous step as the input to the next step.\n",
              "function _uploadFilesContinue(outputId) {\n",
              "  const outputElement = document.getElementById(outputId);\n",
              "  const steps = outputElement.steps;\n",
              "\n",
              "  const next = steps.next(outputElement.lastPromiseValue);\n",
              "  return Promise.resolve(next.value.promise).then((value) => {\n",
              "    // Cache the last promise value to make it available to the next\n",
              "    // step of the generator.\n",
              "    outputElement.lastPromiseValue = value;\n",
              "    return next.value.response;\n",
              "  });\n",
              "}\n",
              "\n",
              "/**\n",
              " * Generator function which is called between each async step of the upload\n",
              " * process.\n",
              " * @param {string} inputId Element ID of the input file picker element.\n",
              " * @param {string} outputId Element ID of the output display.\n",
              " * @return {!Iterable<!Object>} Iterable of next steps.\n",
              " */\n",
              "function* uploadFilesStep(inputId, outputId) {\n",
              "  const inputElement = document.getElementById(inputId);\n",
              "  inputElement.disabled = false;\n",
              "\n",
              "  const outputElement = document.getElementById(outputId);\n",
              "  outputElement.innerHTML = '';\n",
              "\n",
              "  const pickedPromise = new Promise((resolve) => {\n",
              "    inputElement.addEventListener('change', (e) => {\n",
              "      resolve(e.target.files);\n",
              "    });\n",
              "  });\n",
              "\n",
              "  const cancel = document.createElement('button');\n",
              "  inputElement.parentElement.appendChild(cancel);\n",
              "  cancel.textContent = 'Cancel upload';\n",
              "  const cancelPromise = new Promise((resolve) => {\n",
              "    cancel.onclick = () => {\n",
              "      resolve(null);\n",
              "    };\n",
              "  });\n",
              "\n",
              "  // Wait for the user to pick the files.\n",
              "  const files = yield {\n",
              "    promise: Promise.race([pickedPromise, cancelPromise]),\n",
              "    response: {\n",
              "      action: 'starting',\n",
              "    }\n",
              "  };\n",
              "\n",
              "  cancel.remove();\n",
              "\n",
              "  // Disable the input element since further picks are not allowed.\n",
              "  inputElement.disabled = true;\n",
              "\n",
              "  if (!files) {\n",
              "    return {\n",
              "      response: {\n",
              "        action: 'complete',\n",
              "      }\n",
              "    };\n",
              "  }\n",
              "\n",
              "  for (const file of files) {\n",
              "    const li = document.createElement('li');\n",
              "    li.append(span(file.name, {fontWeight: 'bold'}));\n",
              "    li.append(span(\n",
              "        `(${file.type || 'n/a'}) - ${file.size} bytes, ` +\n",
              "        `last modified: ${\n",
              "            file.lastModifiedDate ? file.lastModifiedDate.toLocaleDateString() :\n",
              "                                    'n/a'} - `));\n",
              "    const percent = span('0% done');\n",
              "    li.appendChild(percent);\n",
              "\n",
              "    outputElement.appendChild(li);\n",
              "\n",
              "    const fileDataPromise = new Promise((resolve) => {\n",
              "      const reader = new FileReader();\n",
              "      reader.onload = (e) => {\n",
              "        resolve(e.target.result);\n",
              "      };\n",
              "      reader.readAsArrayBuffer(file);\n",
              "    });\n",
              "    // Wait for the data to be ready.\n",
              "    let fileData = yield {\n",
              "      promise: fileDataPromise,\n",
              "      response: {\n",
              "        action: 'continue',\n",
              "      }\n",
              "    };\n",
              "\n",
              "    // Use a chunked sending to avoid message size limits. See b/62115660.\n",
              "    let position = 0;\n",
              "    do {\n",
              "      const length = Math.min(fileData.byteLength - position, MAX_PAYLOAD_SIZE);\n",
              "      const chunk = new Uint8Array(fileData, position, length);\n",
              "      position += length;\n",
              "\n",
              "      const base64 = btoa(String.fromCharCode.apply(null, chunk));\n",
              "      yield {\n",
              "        response: {\n",
              "          action: 'append',\n",
              "          file: file.name,\n",
              "          data: base64,\n",
              "        },\n",
              "      };\n",
              "\n",
              "      let percentDone = fileData.byteLength === 0 ?\n",
              "          100 :\n",
              "          Math.round((position / fileData.byteLength) * 100);\n",
              "      percent.textContent = `${percentDone}% done`;\n",
              "\n",
              "    } while (position < fileData.byteLength);\n",
              "  }\n",
              "\n",
              "  // All done.\n",
              "  yield {\n",
              "    response: {\n",
              "      action: 'complete',\n",
              "    }\n",
              "  };\n",
              "}\n",
              "\n",
              "scope.google = scope.google || {};\n",
              "scope.google.colab = scope.google.colab || {};\n",
              "scope.google.colab._files = {\n",
              "  _uploadFiles,\n",
              "  _uploadFilesContinue,\n",
              "};\n",
              "})(self);\n",
              "</script> "
            ]
          },
          "metadata": {}
        },
        {
          "output_type": "stream",
          "name": "stdout",
          "text": [
            "Saving client_secret.json to client_secret (1).json\n",
            "\n",
            "Failed to start a local webserver listening on either port 8080\n",
            "or port 8090. Please check your firewall settings and locally\n",
            "running programs that may be blocking or using those ports.\n",
            "\n",
            "Falling back to --noauth_local_webserver and continuing with\n",
            "authorization.\n",
            "\n",
            "\n",
            "Go to the following link in your browser:\n",
            "\n",
            "    https://accounts.google.com/o/oauth2/auth?client_id=61126731814-dhj0pbsk0350h5si24fdjo55nd9shjj2.apps.googleusercontent.com&redirect_uri=urn%3Aietf%3Awg%3Aoauth%3A2.0%3Aoob&scope=https%3A%2F%2Fwww.googleapis.com%2Fauth%2Fgmail.modify+https%3A%2F%2Fwww.googleapis.com%2Fauth%2Fgmail.settings.basic&access_type=offline&response_type=code&prompt=consent\n",
            "\n",
            "Enter verification code: 4/1AQlEd8yYQ2prdDbwEyjpGNkUCu_Q2OipNzhnxFr1DZyxxKbDG4I2DnMi4So\n",
            "Authentication successful.\n"
          ]
        }
      ]
    },
    {
      "cell_type": "code",
      "source": [
        "\"\"\"params={\n",
        "    #'read'=True, # also can be false - both read and unread mails will be read\n",
        "    'senders'=['noreply@medium.com',]\n",
        "\n",
        "}\"\"\""
      ],
      "metadata": {
        "id": "qLK4zd3ZJN7v"
      },
      "execution_count": null,
      "outputs": []
    },
    {
      "cell_type": "code",
      "source": [
        "#setting parameters - filters\n",
        "def get_query_params():\n",
        "    query_params = {}\n",
        "\n",
        "    # Get 'read' status\n",
        "    while True:\n",
        "        read_input = input(\"Enter 'read' status (True/False) or press Enter to skip: \")\n",
        "        if read_input == '':\n",
        "            break  # Skip this field if user presses Enter\n",
        "        elif read_input.lower() in ['true', 'false']:\n",
        "            query_params[\"read\"] = read_input.lower() == 'true'\n",
        "            break\n",
        "        else:\n",
        "            print(\"Invalid input. Please enter 'True' or 'False'.\")\n",
        "\n",
        "    # Get 'recipient'- new\n",
        "    while True:\n",
        "        recipient_input = input(\"Enter recipient email(s) (comma-separated) or press Enter to skip: \")\n",
        "        if recipient_input == '':\n",
        "            break\n",
        "        elif all('@' in email.strip() for email in recipient_input.split(',')):\n",
        "            query_params[\"recipient\"] = [email.strip() for email in recipient_input.split(',')]\n",
        "            break\n",
        "        else:\n",
        "            print(\"Invalid input. Please enter valid email addresses.\")\n",
        "\n",
        "\n",
        "    # Get 'sender'\n",
        "    while True:\n",
        "        sender_input = input(\"Enter sender email(s) (comma-separated) or press Enter to skip: \")\n",
        "        if sender_input == '':\n",
        "            break  # Skip this field if user presses Enter\n",
        "        elif all('@' in email.strip() for email in sender_input.split(',')):\n",
        "            query_params[\"sender\"] = [email.strip() for email in sender_input.split(',')]\n",
        "            break\n",
        "        else:\n",
        "            print(\"Invalid input. Please enter valid email addresses.\")\n",
        "\n",
        "    # Get 'newer_than'\n",
        "    while True:\n",
        "        newer_than_input = input(\"Enter 'newer_than' duration (e.g., '5 day') or press Enter to skip: \")\n",
        "        if newer_than_input == '':\n",
        "            break  # Skip this field if user presses Enter\n",
        "        try:\n",
        "            number, unit = newer_than_input.split()\n",
        "            query_params[\"newer_than\"] = (int(number), unit)\n",
        "            break\n",
        "        except ValueError:\n",
        "            print(\"Invalid input for 'newer_than'. It should be in the format: '<number> <unit>'\")\n",
        "\n",
        "    # Get 'labels'\n",
        "    while True:\n",
        "        labels_input = input(\"Enter labels (comma-separated, e.g., 'CATEGORY_FORUMS, INBOX') or press Enter to skip: \")\n",
        "        if labels_input == '':\n",
        "            break  # Skip this field if user presses Enter\n",
        "        elif all(label.strip() for label in labels_input.split(',')):\n",
        "            query_params[\"labels\"] = [[label.strip()] for label in labels_input.split(',')]\n",
        "            break\n",
        "        else:\n",
        "            print(\"Invalid input. Please enter valid labels.\")\n",
        "    # Get 'subject'\n",
        "    while True:\n",
        "        subject_input = input(\"Enter subject keyword(s) (comma-separated) or press Enter to skip: \")\n",
        "        if subject_input == '':\n",
        "            break\n",
        "        query_params[\"subject\"] = subject_input.split(',')\n",
        "        break\n",
        "\n",
        "\n",
        "    return query_params\n",
        "\n",
        "# Call the function to get user input and print the resulting query_params\n",
        "query_params = get_query_params()\n",
        "print(\"\\nGenerated query_params:\")\n",
        "print(query_params)\n"
      ],
      "metadata": {
        "id": "bXR2xvkt0W7R",
        "colab": {
          "base_uri": "https://localhost:8080/"
        },
        "outputId": "5e50aba5-94d6-4be4-b77d-cb1baef8c6c3"
      },
      "execution_count": null,
      "outputs": [
        {
          "output_type": "stream",
          "name": "stdout",
          "text": [
            "Enter 'read' status (True/False) or press Enter to skip: \n",
            "Enter recipient email(s) (comma-separated) or press Enter to skip: \n",
            "Enter sender email(s) (comma-separated) or press Enter to skip: \n",
            "Enter 'newer_than' duration (e.g., '5 day') or press Enter to skip: 2 day\n",
            "Enter labels (comma-separated, e.g., 'CATEGORY_FORUMS, INBOX') or press Enter to skip: \n",
            "Enter subject keyword(s) (comma-separated) or press Enter to skip: software\n",
            "\n",
            "Generated query_params:\n",
            "{'newer_than': (2, 'day'), 'subject': ['software']}\n"
          ]
        }
      ]
    },
    {
      "cell_type": "code",
      "source": [
        "promo_query = construct_query(query_params)\n",
        "\n",
        "output = gmail.get_messages(query=promo_query)"
      ],
      "metadata": {
        "id": "fPkgcQ3K08Gt"
      },
      "execution_count": null,
      "outputs": []
    },
    {
      "cell_type": "code",
      "source": [
        "# Create and run pipeline\n",
        "summary = Summary()"
      ],
      "metadata": {
        "id": "gOwWJbtc4IrZ",
        "colab": {
          "base_uri": "https://localhost:8080/"
        },
        "outputId": "45b4ce37-1e7f-4f0b-aa8f-0f4a327fb0ec"
      },
      "execution_count": null,
      "outputs": [
        {
          "output_type": "stream",
          "name": "stderr",
          "text": [
            "No model was supplied, defaulted to sshleifer/distilbart-cnn-12-6 and revision a4f8f3e (https://huggingface.co/sshleifer/distilbart-cnn-12-6).\n",
            "Using a pipeline without specifying a model name and revision in production is not recommended.\n"
          ]
        }
      ]
    },
    {
      "cell_type": "code",
      "source": [
        "html_content = \"\"\"\n",
        "<html>\n",
        "<head>\n",
        "  <style>\n",
        "    @import url('https://fonts.googleapis.com/css2?family=Roboto:wght@400;700&display=swap');\n",
        "    @import url('https://cdnjs.cloudflare.com/ajax/libs/font-awesome/5.15.4/css/all.min.css');\n",
        "\n",
        "    body {\n",
        "      font-family: 'Roboto', sans-serif;\n",
        "      background-color: #f0f4f8;\n",
        "      margin: 0;\n",
        "      padding: 0;\n",
        "      color: #333;\n",
        "    }\n",
        "\n",
        "    .email-summary {\n",
        "      width: 100%;\n",
        "      max-width: 600px;\n",
        "      margin: 20px auto;\n",
        "      padding: 20px;\n",
        "      background-color: #ffffff;\n",
        "      border-radius: 10px;\n",
        "      box-shadow: 0 4px 8px rgba(0,0,0,0.1);\n",
        "    }\n",
        "\n",
        "    .heading {\n",
        "      text-align: center;\n",
        "      background-color: #ff4d4d;  /* Red background for the header */\n",
        "      padding: 15px;\n",
        "      border-radius: 10px;\n",
        "      color: #fff;  /* White text */\n",
        "    }\n",
        "\n",
        "    .subheading {\n",
        "      text-align: center;\n",
        "      font-size: 18px;\n",
        "      color: #333;\n",
        "      margin: 20px 0;\n",
        "      font-weight: 700;\n",
        "    }\n",
        "\n",
        "    .email-item {\n",
        "      background-color: #f9fafc;\n",
        "      padding: 20px;\n",
        "      margin: 10px 0;\n",
        "      border-radius: 8px;\n",
        "      border: 1px solid #e0e6ed;\n",
        "    }\n",
        "\n",
        "    .email-header {\n",
        "      font-weight: 700;\n",
        "      color: #333;  /* Black for headers */\n",
        "      display: flex;\n",
        "      align-items: center;\n",
        "    }\n",
        "\n",
        "    .email-header i {\n",
        "      margin-right: 10px;\n",
        "      color: #ff4d4d;  /* Red icons */\n",
        "    }\n",
        "\n",
        "    .email-body {\n",
        "      margin-top: 15px;\n",
        "      font-size: 14px;\n",
        "      color: #555;\n",
        "      line-height: 1.6;\n",
        "    }\n",
        "\n",
        "    .email-footer {\n",
        "      font-size: 12px;\n",
        "      text-align: center;\n",
        "      margin-top: 30px;\n",
        "      color: #999;\n",
        "    }\n",
        "\n",
        "    .email-footer i {\n",
        "      color: #ff4d4d;  /* Red for footer icons */\n",
        "    }\n",
        "\n",
        "    .subject {\n",
        "      color: #ff4d4d;  /* Red for subject */\n",
        "      font-size: 16px;\n",
        "      font-weight: bold;\n",
        "    }\n",
        "\n",
        "    .date {\n",
        "      font-size: 14px;\n",
        "      color: #6c757d;\n",
        "    }\n",
        "\n",
        "    .btn {\n",
        "      background-color: #ff4d4d;  /* Red button */\n",
        "      color: white;\n",
        "      padding: 10px 15px;\n",
        "      border: none;\n",
        "      border-radius: 5px;\n",
        "      text-align: center;\n",
        "      text-decoration: none;\n",
        "      display: inline-block;\n",
        "      font-size: 14px;\n",
        "      margin-top: 20px;\n",
        "      cursor: pointer;\n",
        "    }\n",
        "\n",
        "    .btn:hover {\n",
        "      background-color: #e63939;  /* Darker red on hover */\n",
        "    }\n",
        "  </style>\n",
        "</head>\n",
        "<body>\n",
        "  <div class=\"email-summary\">\n",
        "    <!-- Heading Section -->\n",
        "    <div class=\"heading\">\n",
        "      <h1>Email Summarizer</h1>\n",
        "    </div>\n",
        "\n",
        "    <!-- Subheading Section -->\n",
        "    <div class=\"subheading\">\n",
        "      Here's your email summary\n",
        "    </div>\n",
        "\"\"\"\n"
      ],
      "metadata": {
        "id": "BCjszTb4j7QY"
      },
      "execution_count": null,
      "outputs": []
    },
    {
      "cell_type": "code",
      "source": [
        "# Assuming output is a list of mail objects\n",
        "mail_contents=\"\"\n",
        "for i, mail in enumerate(output):  # Use enumerate to get an index\n",
        "  html_content += f\"\"\"\n",
        "  <div class=\"email-item\">\n",
        "    <div class=\"email-header\">\n",
        "      <i class=\"fas fa-user-circle\"></i> Sender: {mail.sender}\n",
        "    </div>\n",
        "    <div class=\"email-header subject\">\n",
        "      <i class=\"fas fa-envelope\"></i> Subject: {mail.subject}\n",
        "    </div>\n",
        "    <div class=\"email-header date\">\n",
        "      <i class=\"fas fa-calendar-alt\"></i> Date: {mail.date}\n",
        "    </div>\n",
        "    <div class=\"email-body\">\n",
        "  \"\"\"\n",
        "  # Writing plain text part of mail\n",
        "  if mail.plain:\n",
        "      summary_text = summary(mail.plain)\n",
        "      html_content += summary_text\n",
        "  else:\n",
        "      html_content += \"No plain text inside emails\"\n",
        "\n",
        "  html_content += \"</div></div>\\n\"\n"
      ],
      "metadata": {
        "id": "6Np9Gp9SkH-7"
      },
      "execution_count": null,
      "outputs": []
    },
    {
      "cell_type": "code",
      "source": [
        "email = input(\"Enter your email address:\\n\")\n",
        "params = {\n",
        "    \"to\": email,\n",
        "    \"sender\": \"anuradha.navin04@gmail.com\",\n",
        "    \"subject\": \"A summary for your inbox\",\n",
        "    \"msg_plain\": mail_contents,\n",
        "    \"msg_html\": html_content\n",
        "}\n",
        "\n",
        "# Send the email\n",
        "message = gmail.send_message(**params)\n",
        "\n",
        "print('Email sent successfully!')\n"
      ],
      "metadata": {
        "colab": {
          "base_uri": "https://localhost:8080/"
        },
        "id": "jL3qDTGOknrE",
        "outputId": "db8593b7-eb27-49fc-f35f-d8e1f2abd98f"
      },
      "execution_count": null,
      "outputs": [
        {
          "output_type": "stream",
          "name": "stdout",
          "text": [
            "Enter your email address:\n",
            "anuradha.navin04@gmail.com\n",
            "Email sent successfully!\n"
          ]
        }
      ]
    }
  ]
}